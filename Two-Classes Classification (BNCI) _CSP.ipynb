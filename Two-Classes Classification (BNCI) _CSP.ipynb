{
 "cells": [
  {
   "cell_type": "code",
   "execution_count": 1,
   "metadata": {
    "collapsed": false
   },
   "outputs": [],
   "source": [
    "import matplotlib.pylab as plt\n",
    "import numpy as np\n",
    "import seaborn as sns\n",
    "sns.set(context=\"paper\", style=\"white\")\n",
    "import scipy.io as sio\n",
    "%matplotlib inline\n",
    "from mne.decoding import CSP\n",
    "from mne import filter\n",
    "from sklearn.discriminant_analysis import LinearDiscriminantAnalysis\n",
    "from sklearn.model_selection import ShuffleSplit"
   ]
  },
  {
   "cell_type": "markdown",
   "metadata": {},
   "source": [
    "## data file names and function used to extract data"
   ]
  },
  {
   "cell_type": "code",
   "execution_count": 2,
   "metadata": {
    "collapsed": true
   },
   "outputs": [],
   "source": [
    "# data filenames\n",
    "trainingFileList = ['BBCIData/S14T.mat',\n",
    "                    'BBCIData/S13T.mat',\n",
    "                    'BBCIData/S12T.mat',\n",
    "                    'BBCIData/S11T.mat',\n",
    "                    'BBCIData/S10T.mat',\n",
    "                    'BBCIData/S09T.mat',\n",
    "                    'BBCIData/S08T.mat',\n",
    "                    'BBCIData/S07T.mat',\n",
    "                    'BBCIData/S06T.mat',\n",
    "                    'BBCIData/S05T.mat',\n",
    "                    'BBCIData/S04T.mat',\n",
    "                    'BBCIData/S03T.mat',\n",
    "                    'BBCIData/S02T.mat',\n",
    "                    'BBCIData/S01T.mat']\n",
    "\n",
    "\n",
    "validationFileList = ['BBCIData/S14E.mat',\n",
    "                      'BBCIData/S13E.mat',\n",
    "                      'BBCIData/S12E.mat',\n",
    "                      'BBCIData/S11E.mat',\n",
    "                      'BBCIData/S10E.mat',\n",
    "                      'BBCIData/S09E.mat',\n",
    "                      'BBCIData/S08E.mat',\n",
    "                      'BBCIData/S07E.mat',\n",
    "                      'BBCIData/S06E.mat',\n",
    "                      'BBCIData/S05E.mat',\n",
    "                      'BBCIData/S04E.mat',\n",
    "                      'BBCIData/S03E.mat',\n",
    "                      'BBCIData/S02E.mat',\n",
    "                      'BBCIData/S01E.mat']\n",
    "\n",
    "\n",
    "def extract_data(data_folder, training_fn, validation_fn):\n",
    "    \"\"\"\n",
    "    extract data from the matfile and organize them into X and y;\n",
    "    adapted from awesome_bci examples.\n",
    "    note: trainin data and validation data were loaded together\n",
    "    :param data_folder: where data is stored\n",
    "    :param training_fn: filename\n",
    "    :param validation_fn:\n",
    "    :return:\n",
    "    \"\"\"\n",
    "\n",
    "    # prepare data containers\n",
    "    y = []\n",
    "    X = []\n",
    "    tmp_trainingFileList = [training_fn]\n",
    "    tmp_validationFileList = [validation_fn]\n",
    "    for i in range(len(tmp_trainingFileList)):\n",
    "        # read file\n",
    "        d1T = sio.loadmat(data_folder + tmp_trainingFileList[i])\n",
    "        d1E = sio.loadmat(data_folder + tmp_validationFileList[i])\n",
    "\n",
    "        samplingRate = d1T['data'][0][0][0][0][3][0][0]\n",
    "        trialLength = 5 * samplingRate\n",
    "\n",
    "        # run through all training runs\n",
    "        for run in range(5):\n",
    "            y.append(d1T['data'][0][run][0][0][2][0])  # labels\n",
    "            timestamps = d1T['data'][0][run][0][0][1][0]  # timestamps\n",
    "            rawData = d1T['data'][0][run][0][0][0].transpose()  # chan x data\n",
    "\n",
    "            # parse out data based on timestamps\n",
    "            for start in timestamps:\n",
    "                end = start + trialLength\n",
    "                X.append(rawData[:, start:end])  # 15 x 2560\n",
    "\n",
    "        # run through all validation runs (we do not discriminate at this point)\n",
    "        for run in range(3):\n",
    "            y.append(d1E['data'][0][run][0][0][2][0])  # labels\n",
    "            timestamps = d1E['data'][0][run][0][0][1][0]  # timestamps\n",
    "            rawData = d1E['data'][0][run][0][0][0].transpose()  # chan x data\n",
    "\n",
    "            # parse out data based on timestamps\n",
    "            for start in timestamps:\n",
    "                end = start + trialLength\n",
    "                X.append(rawData[:, start:end])  # 15 x 2560\n",
    "\n",
    "        del rawData\n",
    "        del d1T\n",
    "        del d1E\n",
    "\n",
    "    # arrange data into numpy arrays\n",
    "    # also torch expect float32 for samples\n",
    "    # and int64 for labels {0,1}\n",
    "    X = np.array(X).astype(np.float32)\n",
    "    y = (np.array(y).flatten() - 1).astype(np.int64)\n",
    "    sr = samplingRate\n",
    "\n",
    "    return(X, y, sr)"
   ]
  },
  {
   "cell_type": "markdown",
   "metadata": {},
   "source": [
    "### other parameters"
   ]
  },
  {
   "cell_type": "code",
   "execution_count": 3,
   "metadata": {
    "collapsed": false
   },
   "outputs": [],
   "source": [
    "data_folder = \"./\"\n",
    "cue_time = 2.5  # cue starting time\n",
    "signal_delay = 1.0  # take signal from 1 sec after cue onset\n",
    "signal_dur = 1.5 # signal duration \n",
    "signal_st = cue_time + signal_delay\n",
    "signal_et = signal_st + signal_dur"
   ]
  },
  {
   "cell_type": "markdown",
   "metadata": {},
   "source": [
    "## load data from one subject\n",
    "\n",
    "### subject 11 gives best result (> 95%), subject 4 gives the worst result (60%). \n",
    "### bad channels greatly influence the classification results. \n",
    "e.g., the 2nd channel of subject 6 is bad. After removing it, the classification accuracy increases from 50% to 90%."
   ]
  },
  {
   "cell_type": "code",
   "execution_count": 4,
   "metadata": {
    "collapsed": false
   },
   "outputs": [],
   "source": [
    "subject_id = 6\n",
    "trfn = trainingFileList[subject_id]\n",
    "vlfn = validationFileList[subject_id]"
   ]
  },
  {
   "cell_type": "code",
   "execution_count": 5,
   "metadata": {
    "collapsed": false
   },
   "outputs": [
    {
     "name": "stdout",
     "output_type": "stream",
     "text": [
      "((160, 15, 2560), (160,), 512)\n"
     ]
    }
   ],
   "source": [
    "X, y, sr = extract_data(data_folder, trfn, vlfn)\n",
    "print(X.shape, y.shape, sr)"
   ]
  },
  {
   "cell_type": "markdown",
   "metadata": {},
   "source": [
    "### visualize the raw response to check for potential outliers"
   ]
  },
  {
   "cell_type": "code",
   "execution_count": 6,
   "metadata": {
    "collapsed": false
   },
   "outputs": [
    {
     "data": {
      "image/png": "[encoded data removed]",
      "text/plain": [
       "<matplotlib.figure.Figure at 0x7f94c017b690>"
      ]
     },
     "metadata": {},
     "output_type": "display_data"
    }
   ],
   "source": [
    "plt.pcolormesh(X[0]);\n",
    "plt.colorbar(); plt.show()"
   ]
  },
  {
   "cell_type": "code",
   "execution_count": 7,
   "metadata": {
    "collapsed": false
   },
   "outputs": [
    {
     "data": {
      "image/png": "[encoded data removed]",
      "text/plain": [
       "<matplotlib.figure.Figure at 0x7f94874b2150>"
      ]
     },
     "metadata": {},
     "output_type": "display_data"
    }
   ],
   "source": [
    "X_power = np.std(X, axis=-1)  # calculate the standard deviation for each electrode and each trial\n",
    "plt.pcolormesh(np.log(X_power.T))\n",
    "plt.xlabel(\"trial number\"); plt.ylabel(\"electrode\");\n",
    "plt.colorbar(); plt.show()"
   ]
  },
  {
   "cell_type": "markdown",
   "metadata": {},
   "source": [
    "### If the above picture is mostly black with a few bright spots, it indicates there are outliers. There may be bad electrodes or trials."
   ]
  },
  {
   "cell_type": "code",
   "execution_count": 8,
   "metadata": {
    "collapsed": true
   },
   "outputs": [],
   "source": [
    "# electrode 1 has unnormal variations and indicate a bad electrode (electrode number start from 0)"
   ]
  },
  {
   "cell_type": "code",
   "execution_count": 9,
   "metadata": {
    "collapsed": false
   },
   "outputs": [
    {
     "data": {
      "image/png": "[encoded data removed]",
      "text/plain": [
       "<matplotlib.figure.Figure at 0x7f94a2f360d0>"
      ]
     },
     "metadata": {},
     "output_type": "display_data"
    }
   ],
   "source": [
    "electrodes2del = []\n",
    "# electrodes2del = [9, 11, 6]\n",
    "# electrodes2del = [7], subject 3\n",
    "electrodes2del = [1] # subject 6\n",
    "if len(electrodes2del) != 0: \n",
    "    X = np.delete(X, electrodes2del, axis=1)\n",
    "    X_power = np.std(X, axis=-1)  # calculate the standard deviation for each electrode and each trial\n",
    "    plt.pcolormesh(X_power.T)\n",
    "    plt.xlabel(\"trial number\"); plt.ylabel(\"electrode\");\n",
    "    plt.colorbar(); plt.show()"
   ]
  },
  {
   "cell_type": "markdown",
   "metadata": {},
   "source": [
    "## separate EEG data into different frequency bands\n",
    "\n",
    "7 to 30 Hz band pass $\\mu$ & $\\beta$\n",
    "\n",
    "band pass the filter and downsampling the signal to 100 Hz"
   ]
  },
  {
   "cell_type": "code",
   "execution_count": 10,
   "metadata": {
    "collapsed": false
   },
   "outputs": [],
   "source": [
    "low_freq = 7.0\n",
    "high_freq = 30.0\n",
    "down_ratio = 5.0"
   ]
  },
  {
   "cell_type": "code",
   "execution_count": 11,
   "metadata": {
    "collapsed": false
   },
   "outputs": [
    {
     "name": "stdout",
     "output_type": "stream",
     "text": [
      "Setting up band-pass filter from 7 - 30 Hz\n",
      "l_trans_bandwidth chosen to be 2.0 Hz\n",
      "h_trans_bandwidth chosen to be 7.5 Hz\n",
      "Filter length of 845 samples (1.650 sec) selected\n"
     ]
    }
   ],
   "source": [
    "filtered_X = filter.filter_data(np.asarray(X, dtype=np.float64), sr, \n",
    "                                l_freq=low_freq, h_freq=high_freq, fir_design=\"firwin\")\n",
    "filtered_X = filter.resample(filtered_X, down=down_ratio)"
   ]
  },
  {
   "cell_type": "markdown",
   "metadata": {},
   "source": [
    "## use CSP & LDA for decoding overall view\n",
    "\n",
    "use the EEG response from 3.5 to 4.5 seconds for training"
   ]
  },
  {
   "cell_type": "code",
   "execution_count": 12,
   "metadata": {
    "collapsed": false
   },
   "outputs": [],
   "source": [
    "st_idx, et_idx = int(signal_st * sr / down_ratio), int(signal_et * sr / down_ratio) # only use data after 3.5 seconds\n",
    "csp = CSP(n_components=6, reg=0.001, log=None, norm_trace=False, transform_into=\"csp_space\")\n",
    "csp = CSP(n_components=6, reg=0.001, log=None, norm_trace=False, transform_into=\"average_power\")\n",
    "tf_X = csp.fit_transform(filtered_X[:, :, st_idx:et_idx], y)"
   ]
  },
  {
   "cell_type": "code",
   "execution_count": 13,
   "metadata": {
    "collapsed": false
   },
   "outputs": [],
   "source": [
    "clf = LinearDiscriminantAnalysis()\n",
    "mappings = clf.fit_transform(tf_X, y)\n",
    "est_y = clf.predict(tf_X)"
   ]
  },
  {
   "cell_type": "code",
   "execution_count": 14,
   "metadata": {
    "collapsed": false,
    "scrolled": true
   },
   "outputs": [
    {
     "data": {
      "image/png": "[encoded data removed]",
      "text/plain": [
       "<matplotlib.figure.Figure at 0x7f948732ce10>"
      ]
     },
     "metadata": {},
     "output_type": "display_data"
    },
    {
     "name": "stdout",
     "output_type": "stream",
     "text": [
      "0.95\n"
     ]
    }
   ],
   "source": [
    "plt.plot(mappings[y==0], \"o\")\n",
    "plt.plot(mappings[y==1], \"*\")\n",
    "plt.legend([\"0\", \"1\"]);\n",
    "plt.ylim(-5, 7); plt.xlabel(\"trial number\"); plt.ylabel(\"LDA component\")\n",
    "plt.show()\n",
    "print(np.sum(est_y == y) * 1.0 / len(y))"
   ]
  },
  {
   "cell_type": "markdown",
   "metadata": {},
   "source": [
    "## use cross validation to measure the classification accuracy"
   ]
  },
  {
   "cell_type": "code",
   "execution_count": 15,
   "metadata": {
    "collapsed": true
   },
   "outputs": [],
   "source": [
    "def classification_acc(X, y, signal_dur=1.0, signal_delay=1.0, num_splits=10):\n",
    "    # get the index in which data are used for training and testing: 1 seconds after cue onset\n",
    "    signal_st = cue_time + signal_delay\n",
    "    signal_et = signal_st + signal_dur\n",
    "    st_idx, et_idx = int(signal_st * sr / down_ratio), int(signal_et * sr / down_ratio)\n",
    "    # accuracy list\n",
    "    acc_list = []\n",
    "    rs = ShuffleSplit(n_splits=num_splits, test_size=0.2, random_state=7) # split the data\n",
    "#     pdb.set_trace()\n",
    "    for train_idx, test_idx in rs.split(X):\n",
    "        # get training and testing data\n",
    "        tr_X, tr_y = X[train_idx], y[train_idx]\n",
    "        test_X, test_y = X[test_idx], y[test_idx]\n",
    "        # train CSP based on the train data, transform the test data using the CSP from training data\n",
    "        csp = CSP(n_components=6, reg=0.001, log=None, norm_trace=False, transform_into=\"average_power\")\n",
    "        train_tf_X = csp.fit_transform(tr_X[:, :, st_idx:et_idx], tr_y)\n",
    "        test_tf_X = csp.transform(test_X[:, :, st_idx:et_idx])\n",
    "        # train the LDA on the train data\n",
    "        clf = LinearDiscriminantAnalysis()\n",
    "        clf.fit(train_tf_X, tr_y)\n",
    "        est_y = clf.predict(test_tf_X)\n",
    "        acc = np.sum(est_y == test_y) * 1.0 / len(test_y)\n",
    "        acc_list.append(acc)\n",
    "    return(np.mean(acc_list), acc_list)"
   ]
  },
  {
   "cell_type": "code",
   "execution_count": 16,
   "metadata": {
    "collapsed": false
   },
   "outputs": [
    {
     "name": "stdout",
     "output_type": "stream",
     "text": [
      "Average classification accuracy on testing set is: 0.906250\n"
     ]
    }
   ],
   "source": [
    "avg_acc, acc_list = classification_acc(filtered_X, y, signal_dur=1.5, num_splits=10)\n",
    "print(\"Average classification accuracy on testing set is: %f\" % (avg_acc))"
   ]
  },
  {
   "cell_type": "code",
   "execution_count": null,
   "metadata": {
    "collapsed": false
   },
   "outputs": [],
   "source": []
  },
  {
   "cell_type": "code",
   "execution_count": null,
   "metadata": {
    "collapsed": true
   },
   "outputs": [],
   "source": []
  },
  {
   "cell_type": "code",
   "execution_count": null,
   "metadata": {
    "collapsed": true
   },
   "outputs": [],
   "source": []
  }
 ],
 "metadata": {
  "anaconda-cloud": {},
  "kernelspec": {
   "display_name": "Python 2",
   "language": "python",
   "name": "python2"
  },
  "language_info": {
   "codemirror_mode": {
    "name": "ipython",
    "version": 2
   },
   "file_extension": ".py",
   "mimetype": "text/x-python",
   "name": "python",
   "nbconvert_exporter": "python",
   "pygments_lexer": "ipython2",
   "version": "2.7.14"
  }
 },
 "nbformat": 4,
 "nbformat_minor": 1
}
